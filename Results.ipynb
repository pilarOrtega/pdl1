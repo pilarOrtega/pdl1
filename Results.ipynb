{
  "nbformat": 4,
  "nbformat_minor": 0,
  "metadata": {
    "colab": {
      "name": "Results.ipynb",
      "provenance": [],
      "toc_visible": true
    },
    "kernelspec": {
      "name": "python3",
      "display_name": "Python 3"
    }
  },
  "cells": [
    {
      "cell_type": "markdown",
      "metadata": {
        "id": "hgLwxHhhp7a6",
        "colab_type": "text"
      },
      "source": [
        "# Results PDL1 Project \n",
        "\n",
        "### Execution data\n",
        "\n",
        "\n",
        "*   **Date**: 05/06/2020\n",
        "*   **Feature method**: Dense DAB\n",
        "*   **Feature classifier**: \n",
        "*   **\n",
        "\n",
        "\n"
      ]
    },
    {
      "cell_type": "markdown",
      "metadata": {
        "id": "EPXH75WUrGAL",
        "colab_type": "text"
      },
      "source": [
        "### IMPORTS"
      ]
    },
    {
      "cell_type": "code",
      "metadata": {
        "id": "cqqBJfj19PVU",
        "colab_type": "code",
        "colab": {
          "base_uri": "https://localhost:8080/",
          "height": 34
        },
        "outputId": "0ed68574-98dd-4fe0-e1e5-b5bd166241a1"
      },
      "source": [
        "cd /content/drive/My Drive/pdl1/Project"
      ],
      "execution_count": 3,
      "outputs": [
        {
          "output_type": "stream",
          "text": [
            "/content/drive/My Drive/pdl1/Project\n"
          ],
          "name": "stdout"
        }
      ]
    },
    {
      "cell_type": "code",
      "metadata": {
        "id": "-kVcYR9O5CVS",
        "colab_type": "code",
        "colab": {}
      },
      "source": [
        "import pickle\n",
        "from auxiliary_functions.get_clusterlist import *\n",
        "from show_preview import *\n",
        "from save_cluster import *\n",
        "import os\n",
        "import numpy\n",
        "from matplotlib import pyplot as plt\n",
        "import argparse\n",
        "import shutil\n",
        "from sklearn.metrics.cluster import adjusted_rand_score\n",
        "from prettytable import PrettyTable"
      ],
      "execution_count": 0,
      "outputs": []
    },
    {
      "cell_type": "code",
      "metadata": {
        "id": "IttlloQQ7XP-",
        "colab_type": "code",
        "colab": {}
      },
      "source": [
        "def pickle_save(file, path, name):\n",
        "    file_path = os.path.join(path, name)\n",
        "    with open(file_path, \"wb\") as f:\n",
        "        pickle.dump(file, f)\n",
        "\n",
        "def pickle_load(file_name):\n",
        "    with open(file_name, \"rb\") as f:\n",
        "        file = pickle.load(f)\n",
        "        print('Document ' + file_name + ' correctly loaded')\n",
        "        print()\n",
        "    return file"
      ],
      "execution_count": 0,
      "outputs": []
    },
    {
      "cell_type": "markdown",
      "metadata": {
        "id": "l1skBqB5rzjc",
        "colab_type": "text"
      },
      "source": [
        "## LOAD DATA"
      ]
    },
    {
      "cell_type": "markdown",
      "metadata": {
        "id": "010Rwz945_4Q",
        "colab_type": "text"
      },
      "source": [
        "Here we load our classifier file (which contains one tuple for each slide - total of 106 in V2). For the sake of visualization, we are not going to display all previews, but only a few of interest, which can be chosen in the list \"slides\""
      ]
    },
    {
      "cell_type": "code",
      "metadata": {
        "id": "D1T42wau3-ni",
        "colab_type": "code",
        "colab": {
          "base_uri": "https://localhost:8080/",
          "height": 51
        },
        "outputId": "1b1982bb-0580-4edf-82ba-ecca5a9990cb"
      },
      "source": [
        "feature_method = 'DenseDAB'\n",
        "classifiers = '/data/DeepLearning/ABREU_Arnaud/Pilar_stage/tests/level_16_ts_224_V2_test2/class-DenseDAB-16-Bottom-up-19.p'\n",
        "classifiers = pickle_load(classifiers)\n",
        "slides = ['NVA_RC.PDL1.V2_FR.BOD.P.999.4963.PDL1.mrxs']\n",
        "classifiers_mod = [c for c in classifiers if c[0] in slides]\n",
        "method = 'BottomUp'\n",
        "n_division = 1\n",
        "outpath = '/data/DeepLearning/ABREU_Arnaud/Pilar_stage/tests/Notebook_results'\n",
        "slide_folder = '/home/DeepLearning/media/pdl1/RC.PDL1.V2'\n",
        "try:\n",
        "    os.mkdir(outpath)\n",
        "    print(\"Directory\", outpath, \"created\")\n",
        "except FileExistsError:\n",
        "    print(\"Directory\", outpath, \"already exists\")"
      ],
      "execution_count": 7,
      "outputs": [
        {
          "output_type": "stream",
          "text": [
            "Document /content/drive/My Drive/tests_pdl1/class-DaisyDAB-16.p correctly loaded\n",
            "\n"
          ],
          "name": "stdout"
        }
      ]
    },
    {
      "cell_type": "markdown",
      "metadata": {
        "id": "kdT9t9M5-kyb",
        "colab_type": "text"
      },
      "source": [
        "## RESULTS"
      ]
    },
    {
      "cell_type": "code",
      "metadata": {
        "id": "z1848Gbw4cjP",
        "colab_type": "code",
        "colab": {}
      },
      "source": [
        "show_preview(classifiers_mod, 16, 224, slide_folder, outpath, feature_method, n_division, method=)"
      ],
      "execution_count": 0,
      "outputs": []
    },
    {
      "cell_type": "code",
      "metadata": {
        "id": "mgluAn_J-Sfu",
        "colab_type": "code",
        "colab": {}
      },
      "source": [
        "save_cluster(classifiers, outpath, feature_method)"
      ],
      "execution_count": 0,
      "outputs": []
    },
    {
      "cell_type": "markdown",
      "metadata": {
        "id": "KAKb7y2j-pJQ",
        "colab_type": "text"
      },
      "source": [
        "## COMPARISON"
      ]
    },
    {
      "cell_type": "code",
      "metadata": {
        "id": "bijhrU_tEt35",
        "colab_type": "code",
        "outputId": "c6651cc2-b898-43ae-afd5-f7da28247399",
        "colab": {
          "base_uri": "https://localhost:8080/",
          "height": 204
        }
      },
      "source": [
        "classifiers_1 = '/data/DeepLearning/ABREU_Arnaud/Pilar_stage/tests/level_16_ts_224_V2_test2/class-DenseDAB-16-Bottom-up-19.p'\n",
        "classifiers_2 = '/data/DeepLearning/ABREU_Arnaud/Pilar_stage/tests/level_16_ts_224_V2_test2/class-DenseDAB-16-BottomUp-20.p'\n",
        "\n",
        "feature_method_1 = os.path.basename(classifiers_1)\n",
        "feature_method_1 = feature_method_1.split('-')\n",
        "feature_method_1 = feature_method_1[1] + feature_method_1[3] + '1'\n",
        "\n",
        "feature_method_2 = os.path.basename(classifiers_2)\n",
        "feature_method_2 = feature_method_2.split('-')\n",
        "feature_method_2 = feature_method_2[1] + feature_method_2[3] + '2'\n",
        "\n",
        "classifiers_1 = pickle_load(f)\n",
        "classifiers_2 = pickle_load(f)"
      ],
      "execution_count": 0,
      "outputs": [
        {
          "output_type": "stream",
          "text": [
            "DenseDAB cluster 1: 5713. Percentage 2.381935150324999\n",
            "DenseDAB cluster 2: 8837. Percentage 3.6844321588345905\n",
            "DenseDAB cluster 3: 7860. Percentage 3.27708914432951\n",
            "DenseDAB cluster 4: 5350. Percentage 2.230588666941842\n",
            "DenseDAB cluster 5: 5890. Percentage 2.455732195941579\n",
            "\n",
            "DaisyDAB cluster 1: 6409. Percentage 2.6721201432579935\n",
            "DaisyDAB cluster 2: 9876. Percentage 4.117624985928529\n",
            "DaisyDAB cluster 3: 6662. Percentage 2.7776040559189816\n",
            "DaisyDAB cluster 4: 18995. Percentage 7.919632098796316\n",
            "DaisyDAB cluster 5: 7474. Percentage 3.116153214340809\n"
          ],
          "name": "stdout"
        }
      ]
    }
  ]
}